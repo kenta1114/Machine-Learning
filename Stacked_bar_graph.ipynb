{
  "nbformat": 4,
  "nbformat_minor": 0,
  "metadata": {
    "colab": {
      "name": "Stacked_bar_graph.ipynb",
      "provenance": [],
      "collapsed_sections": [],
      "authorship_tag": "ABX9TyPbvlqQ3mC3P15apdQY+oX0",
      "include_colab_link": true
    },
    "kernelspec": {
      "name": "python3",
      "display_name": "Python 3"
    },
    "language_info": {
      "name": "python"
    }
  },
  "cells": [
    {
      "cell_type": "markdown",
      "metadata": {
        "id": "view-in-github",
        "colab_type": "text"
      },
      "source": [
        "<a href=\"https://colab.research.google.com/github/kenta1114/Machine-Learning/blob/main/Stacked_bar_graph.ipynb\" target=\"_parent\"><img src=\"https://colab.research.google.com/assets/colab-badge.svg\" alt=\"Open In Colab\"/></a>"
      ]
    },
    {
      "cell_type": "code",
      "execution_count": 1,
      "metadata": {
        "id": "KVpTh37PUzhe"
      },
      "outputs": [],
      "source": [
        "x = [1, 2, 3]\n",
        "y1 = [4, 12, 5]\n",
        "y2 = [8, 2, 4]"
      ]
    },
    {
      "cell_type": "code",
      "source": [
        "import numpy as np\n",
        "\n",
        "y1=[4,12,5]\n",
        "y2=[8,2,4]\n",
        "y_total=np.add(y1,y2)\n",
        "print(y_total)"
      ],
      "metadata": {
        "colab": {
          "base_uri": "https://localhost:8080/"
        },
        "id": "qx6K8BjuWCgi",
        "outputId": "288cbbbc-3e8b-40e9-e79d-a32bab413648"
      },
      "execution_count": 2,
      "outputs": [
        {
          "output_type": "stream",
          "name": "stdout",
          "text": [
            "[12 14  9]\n"
          ]
        }
      ]
    },
    {
      "cell_type": "code",
      "source": [
        "import numpy as np\n",
        "import matplotlib.pyplot as plt\n",
        "\n",
        "fig, ax = plt.subplots()\n",
        "\n",
        "x = [1, 2, 3]\n",
        "y1 = [4, 12, 5]\n",
        "y2 = [8, 2, 4]\n",
        "y_total = np.add(y1, y2)\n",
        "labels = ['Apple', 'Banana', 'Orange']\n",
        "\n",
        "ax.bar(x, y_total, tick_label=labels, label='y2')\n",
        "ax.bar(x, y1, label='y1')\n",
        "ax.legend()\n",
        "plt.show()"
      ],
      "metadata": {
        "colab": {
          "base_uri": "https://localhost:8080/",
          "height": 265
        },
        "id": "NvSpHNtyWOir",
        "outputId": "1f267539-de73-40b0-e8d2-247f92ae55fc"
      },
      "execution_count": 3,
      "outputs": [
        {
          "output_type": "display_data",
          "data": {
            "image/png": "[encoded data removed]",
            "text/plain": [
              "<Figure size 432x288 with 1 Axes>"
            ]
          },
          "metadata": {
            "needs_background": "light"
          }
        }
      ]
    },
    {
      "cell_type": "code",
      "source": [
        "import numpy as np\n",
        "import matplotlib.pyplot as plt\n",
        "\n",
        "fig, ax = plt.subplots()\n",
        "\n",
        "x = [1, 2, 3]\n",
        "y1 = [4, 12, 5]\n",
        "y2 = [8, 2, 4]\n",
        "y3 = [2, 6, 8]\n",
        "y_total = np.add(y1,y2)\n",
        "y_total = np.add(y1_y2_total,y3)\n",
        "labels = ['Apple', 'Banana', 'Orange']\n",
        "\n",
        "ax.bar(x, y_total, tick_label=labels, label='y2')\n",
        "ax.bar(x, y1, label='y1')\n",
        "ax.legend()\n",
        "plt.show()"
      ],
      "metadata": {
        "colab": {
          "base_uri": "https://localhost:8080/",
          "height": 265
        },
        "id": "LLua2D0uWvN_",
        "outputId": "7b2edaca-172b-4cd9-fea9-b8d8bb620b63"
      },
      "execution_count": 8,
      "outputs": [
        {
          "output_type": "display_data",
          "data": {
            "image/png": "[encoded data removed]",
            "text/plain": [
              "<Figure size 432x288 with 1 Axes>"
            ]
          },
          "metadata": {
            "needs_background": "light"
          }
        }
      ]
    },
    {
      "cell_type": "code",
      "source": [
        ""
      ],
      "metadata": {
        "id": "n2O0Q7S1aoNb"
      },
      "execution_count": null,
      "outputs": []
    }
  ]
}