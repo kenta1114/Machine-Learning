{
  "nbformat": 4,
  "nbformat_minor": 0,
  "metadata": {
    "colab": {
      "name": "Web_Scrping.ipynb",
      "provenance": [],
      "authorship_tag": "ABX9TyMvG97H7cR8rVkHfPpUVzDm",
      "include_colab_link": true
    },
    "kernelspec": {
      "name": "python3",
      "display_name": "Python 3"
    },
    "language_info": {
      "name": "python"
    }
  },
  "cells": [
    {
      "cell_type": "markdown",
      "metadata": {
        "id": "view-in-github",
        "colab_type": "text"
      },
      "source": [
        "<a href=\"https://colab.research.google.com/github/kenta1114/Machine-Learning/blob/main/Web_Scrping.ipynb\" target=\"_parent\"><img src=\"https://colab.research.google.com/assets/colab-badge.svg\" alt=\"Open In Colab\"/></a>"
      ]
    },
    {
      "cell_type": "code",
      "execution_count": 1,
      "metadata": {
        "colab": {
          "base_uri": "https://localhost:8080/"
        },
        "id": "5paqWjyRniJ8",
        "outputId": "6e174564-31c7-4c73-deac-46c538f534c5"
      },
      "outputs": [
        {
          "output_type": "stream",
          "name": "stdout",
          "text": [
            "Requirement already satisfied: requests in /usr/local/lib/python3.7/dist-packages (2.23.0)\n",
            "Requirement already satisfied: idna<3,>=2.5 in /usr/local/lib/python3.7/dist-packages (from requests) (2.10)\n",
            "Requirement already satisfied: certifi>=2017.4.17 in /usr/local/lib/python3.7/dist-packages (from requests) (2021.10.8)\n",
            "Requirement already satisfied: urllib3!=1.25.0,!=1.25.1,<1.26,>=1.21.1 in /usr/local/lib/python3.7/dist-packages (from requests) (1.24.3)\n",
            "Requirement already satisfied: chardet<4,>=3.0.2 in /usr/local/lib/python3.7/dist-packages (from requests) (3.0.4)\n"
          ]
        }
      ],
      "source": [
        "pip install requests"
      ]
    },
    {
      "cell_type": "code",
      "execution_count": 2,
      "metadata": {
        "colab": {
          "base_uri": "https://localhost:8080/"
        },
        "id": "i_INzhj_oENU",
        "outputId": "7cbcff25-f16d-49db-c931-936da8a911d0"
      },
      "outputs": [
        {
          "output_type": "stream",
          "name": "stdout",
          "text": [
            "Requirement already satisfied: beautifulsoup4 in /usr/local/lib/python3.7/dist-packages (4.6.3)\n"
          ]
        }
      ],
      "source": [
        "pip install beautifulsoup4"
      ]
    },
    {
      "cell_type": "code",
      "source": [
        "import requests\n",
        "\n",
        "r=requests.get('https://codezine.jp/')\n",
        "print(type(r))\n",
        "print(r.status_code)"
      ],
      "metadata": {
        "colab": {
          "base_uri": "https://localhost:8080/"
        },
        "id": "cvMqYrZ7oNpP",
        "outputId": "1cabb853-5729-4821-ac99-1dbad2f5a176"
      },
      "execution_count": 3,
      "outputs": [
        {
          "output_type": "stream",
          "name": "stdout",
          "text": [
            "<class 'requests.models.Response'>\n",
            "200\n"
          ]
        }
      ]
    },
    {
      "cell_type": "code",
      "source": [
        "text=r.text\n",
        "for line in text.split('\\n'):\n",
        "  if'<title>' in line or '<h1>' in line:\n",
        "    print(line.split())"
      ],
      "metadata": {
        "colab": {
          "base_uri": "https://localhost:8080/"
        },
        "id": "87rkB163oi2g",
        "outputId": "1db3c896-e296-4e54-f1df-8ad35a610810"
      },
      "execution_count": 4,
      "outputs": [
        {
          "output_type": "stream",
          "name": "stdout",
          "text": [
            "['<title>CodeZine（コードジン）</title>']\n",
            "['<h1><a', 'href=\"/\"><img', 'src=\"//cz-cdn.shoeisha.jp/lib/img/cmn/cmn-header-logo.png\"', 'alt=\"CodeZine（コードジン）\"', '></a></h1>']\n"
          ]
        }
      ]
    },
    {
      "cell_type": "code",
      "source": [
        "from bs4 import BeautifulSoup\n",
        "\n",
        "#HTMLを解析したオブジェクトを生成\n",
        "soup=BeautifulSoup(text,'html.parser')\n",
        "print(soup.title)   #<title>タグの情報を取得\n",
        "print(soup.h1)      #<h1>タグの情報を取得\n",
        "#h1タグの中のaタグの中のimgタグの中のalt属性\n",
        "print(soup.h1.a.img['alt'])"
      ],
      "metadata": {
        "colab": {
          "base_uri": "https://localhost:8080/"
        },
        "id": "wLmlE-aoo32Y",
        "outputId": "7cbbe16f-0459-470e-af73-896da0dec0ee"
      },
      "execution_count": 5,
      "outputs": [
        {
          "output_type": "stream",
          "name": "stdout",
          "text": [
            "<title>CodeZine（コードジン）</title>\n",
            "<h1><a href=\"/\"><img alt=\"CodeZine（コードジン）\" src=\"//cz-cdn.shoeisha.jp/lib/img/cmn/cmn-header-logo.png\"/></a></h1>\n",
            "CodeZine（コードジン）\n"
          ]
        }
      ]
    },
    {
      "cell_type": "code",
      "source": [
        "atags=soup.find_all('a')\n",
        "print('aタグの数:',len(atags))\n",
        "for atag in atags[:5]:\n",
        "  print('タイトル:',atag.text)\n",
        "  print('リンク:',atag['href'])"
      ],
      "metadata": {
        "colab": {
          "base_uri": "https://localhost:8080/"
        },
        "id": "KJaf5IP0p2HC",
        "outputId": "2e6e4c83-5591-42b7-a43b-9fbaa66510c7"
      },
      "execution_count": 6,
      "outputs": [
        {
          "output_type": "stream",
          "name": "stdout",
          "text": [
            "aタグの数: 169\n",
            "タイトル: このページの本文へ移動\n",
            "リンク: #contents\n",
            "タイトル: \n",
            "リンク: /\n",
            "タイトル: ホーム\n",
            "リンク: /\n",
            "タイトル: ニュース\n",
            "リンク: /news/\n",
            "タイトル: 記事\n",
            "リンク: /article/\n"
          ]
        }
      ]
    },
    {
      "cell_type": "code",
      "source": [
        "from datetime import datetime\n",
        "\n",
        "import requests\n",
        "from bs4 import BeautifulSoup\n",
        "\n",
        "r=requests.get('https://codezine.jp/article/detail/15616')\n",
        "soup=BeautifulSoup(r.text,'html.parser')\n",
        "\n",
        "articles=[]\n",
        "\n",
        "#cssセレクターで<ul class=\"catList\"><li>を取得\n",
        "lis=soup.select('ul.catList>li')\n",
        "for li in lis:\n",
        "  #日付の文字列を取得\n",
        "  day=li.find('div', class_='day').text.strip()\n",
        "  #日付をdatetimeに変換\n",
        "  published=datetime.striptime(day,'%Y/%m/%d')\n",
        "  h2_tag=li.find('h2')\n",
        "  title=h2_tag.text\n",
        "  url=h2_tag.a['href']\n",
        "\n",
        "  tag_list=li.select('ul.tag>li')\n",
        "  tags=[tag.text.strip() for tag in tag_list]\n",
        "\n",
        "  article={\n",
        "      'published':published,\n",
        "      'title':title,\n",
        "      'url':url,\n",
        "      'tags':tags\n",
        "  }\n",
        "  articles.append(article)"
      ],
      "metadata": {
        "id": "oVBr1sFfqbrd"
      },
      "execution_count": 10,
      "outputs": []
    },
    {
      "cell_type": "code",
      "source": [
        "articles[:3]"
      ],
      "metadata": {
        "colab": {
          "base_uri": "https://localhost:8080/"
        },
        "id": "64ME05X9tJ_d",
        "outputId": "4ab50b16-e6e8-48df-e366-f6a78261ac44"
      },
      "execution_count": 11,
      "outputs": [
        {
          "output_type": "execute_result",
          "data": {
            "text/plain": [
              "[]"
            ]
          },
          "metadata": {},
          "execution_count": 11
        }
      ]
    },
    {
      "cell_type": "code",
      "source": [
        "import pandas as pd\n",
        "df=pd.DataFrame(articles)"
      ],
      "metadata": {
        "id": "xpNVoGnktRlK"
      },
      "execution_count": 12,
      "outputs": []
    }
  ]
}